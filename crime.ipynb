{
 "cells": [
  {
   "cell_type": "code",
   "execution_count": null,
   "outputs": [],
   "source": [
    "import sqlalchemy as sq\n",
    "\n",
    "engine = sq.create_engine(\"postgresql://localhost/crime\")\n",
    "conn = engine.connect()"
   ],
   "metadata": {
    "collapsed": false
   }
  },
  {
   "cell_type": "code",
   "execution_count": 14,
   "outputs": [],
   "source": [
    "statement = \"\"\"select ni.incident_date, ni.incident_hour, a.county_name, no.incident_id, t.offense_code, t.offense_name, nlt.location_name, nwt.weapon_name, nwt.weapon_code, nbm.bias_id from nibrs_incident ni\n",
    "                JOIN agencies a on ni.agency_id = a.agency_id\n",
    "                JOIN nibrs_offender no on ni.incident_id = no.incident_id\n",
    "                JOIN nibrs_offense n on ni.incident_id = n.incident_id\n",
    "                JOIN nibrs_location_type nlt on n.location_id = nlt.location_id\n",
    "                JOIN nibrs_offense_type t on n.offense_code = t.offense_code\n",
    "                JOIN nibrs_weapon nw on n.offense_id = nw.offense_id\n",
    "                JOIN nibrs_weapon_type nwt on nw.weapon_id = nwt.weapon_id\n",
    "                JOIN nibrs_bias_motivation nbm on n.offense_id = nbm.offense_id;\"\"\"\n",
    "result = conn.execute(statement)"
   ],
   "metadata": {
    "collapsed": false
   }
  },
  {
   "cell_type": "code",
   "execution_count": null,
   "outputs": [],
   "source": [
    "SEX_CRIME_CODE = [\"11\", \"36\", \"90H\"]            # rape, sodomy, SA with object, fondling, incest, stat. rape, peeping tom - offense_code\n",
    "FIREARM_CODE   = [\"11\", \"12\", \"13\", \"14\", \"15\"] # NIBRS_WEAPON_TYPE, firearm, handgun, rifle, shotgun, other firearm - weapon_code\n",
    "HATE_CODE      = \"88\"                           # if result contains this number, it is NOT a hate crime - bias_id\n",
    "\n",
    "def create_incident_time_dict(incident: dict) -> dict:\n",
    "    time_dict = dict()\n",
    "    print(incident)\n",
    "    time_dict[\"incident_hour\"] = incident[\"incident_hour\"]\n",
    "    time_dict[\"incident_day\"] = incident[\"incident_date\"].day\n",
    "    time_dict[\"incident_month\"] = incident[\"incident_date\"].month\n",
    "    time_dict[\"incident_year\"] = incident[\"incident_date\"].year\n",
    "    return time_dict\n",
    "\n",
    "def awful_array_string_checker(arr1, string) -> bool:\n",
    "    for e in arr1:\n",
    "        if e in string:\n",
    "            return True\n",
    "    return False\n",
    "\n",
    "def check_codes(incident: dict) -> dict:\n",
    "    incident['gun_violence'] = False\n",
    "    incident['sex_crime']    = False\n",
    "    incident['hate_crime']   = False\n",
    "    if awful_array_string_checker(incident['offense_code'], SEX_CRIME_CODE):\n",
    "        incident\n",
    "\n",
    "res_dict = dict()\n",
    "i = 0\n",
    "for u in result.all():\n",
    "    incident_dict = dict(u)\n",
    "\n",
    "    finished_incident_dict = dict()\n",
    "    time_dict = create_incident_time_dict(incident_dict)\n",
    "    finished_incident_dict[\"incident_time\"] = time_dict\n",
    "\n",
    "    res_dict[i] = finished_incident_dict\n",
    "    i+=1\n",
    "\n"
   ],
   "metadata": {
    "collapsed": false
   }
  },
  {
   "cell_type": "code",
   "execution_count": null,
   "outputs": [],
   "source": [
    "import json\n",
    "with open('data.json', 'w', encoding='utf-8') as f:\n",
    "    json.dump(res_dict, f, ensure_ascii=False, indent=4)"
   ],
   "metadata": {
    "collapsed": false
   }
  },
  {
   "cell_type": "markdown",
   "source": [],
   "metadata": {
    "collapsed": false
   }
  }
 ],
 "metadata": {
  "kernelspec": {
   "display_name": "Python 3",
   "language": "python",
   "name": "python3"
  },
  "language_info": {
   "codemirror_mode": {
    "name": "ipython",
    "version": 2
   },
   "file_extension": ".py",
   "mimetype": "text/x-python",
   "name": "python",
   "nbconvert_exporter": "python",
   "pygments_lexer": "ipython2",
   "version": "2.7.6"
  }
 },
 "nbformat": 4,
 "nbformat_minor": 0
}
